{
 "cells": [
  {
   "cell_type": "markdown",
   "metadata": {
    "id": "3DR-eO17geWu"
   },
   "source": [
    "# Convolutional Neural Network"
   ]
  },
  {
   "cell_type": "markdown",
   "metadata": {
    "id": "EMefrVPCg-60"
   },
   "source": [
    "# Importing the libraries"
   ]
  },
  {
   "cell_type": "code",
   "execution_count": 11,
   "metadata": {
    "id": "YgQD9zU30bdV"
   },
   "outputs": [],
   "source": [
    "import tensorflow as tf\n",
    "from keras.preprocessing.image import ImageDataGenerator"
   ]
  },
  {
   "cell_type": "code",
   "execution_count": 12,
   "metadata": {
    "colab": {
     "base_uri": "https://localhost:8080/",
     "height": 36
    },
    "id": "x4nQpkno11B8",
    "outputId": "e733fc77-ed44-44a3-fa29-f99a53702c61"
   },
   "outputs": [
    {
     "data": {
      "text/plain": [
       "'2.6.0'"
      ]
     },
     "execution_count": 12,
     "metadata": {},
     "output_type": "execute_result"
    }
   ],
   "source": [
    "tf.__version__"
   ]
  },
  {
   "cell_type": "markdown",
   "metadata": {
    "id": "oxQxCBWyoGPE"
   },
   "source": [
    "# Part 1 - Data Preprocessing"
   ]
  },
  {
   "cell_type": "markdown",
   "metadata": {
    "id": "MvE-heJNo3GG"
   },
   "source": [
    "### Preprocessing the Training set"
   ]
  },
  {
   "cell_type": "code",
   "execution_count": 13,
   "metadata": {
    "id": "B5zWXEPLY7KY"
   },
   "outputs": [
    {
     "name": "stdout",
     "output_type": "stream",
     "text": [
      "Found 8000 images belonging to 2 classes.\n"
     ]
    }
   ],
   "source": [
    "train_datagen = ImageDataGenerator(\n",
    "        rescale=1./255,\n",
    "        shear_range=0.2,\n",
    "        zoom_range=0.2,\n",
    "        horizontal_flip=True)\n",
    "training_set = train_datagen.flow_from_directory(\n",
    "        'dataset/training_set',\n",
    "        target_size=(64, 64),\n",
    "        batch_size=128,\n",
    "        class_mode='binary')"
   ]
  },
  {
   "cell_type": "markdown",
   "metadata": {
    "id": "mrCMmGw9pHys"
   },
   "source": [
    "### Preprocessing the Test set"
   ]
  },
  {
   "cell_type": "code",
   "execution_count": 14,
   "metadata": {
    "id": "kv5JUmnBdZRh"
   },
   "outputs": [
    {
     "name": "stdout",
     "output_type": "stream",
     "text": [
      "Found 2000 images belonging to 2 classes.\n"
     ]
    }
   ],
   "source": [
    "test_datagen = ImageDataGenerator(rescale=1./255)\n",
    "test_set = test_datagen.flow_from_directory(\n",
    "        'dataset/test_set',\n",
    "        target_size=(64, 64),\n",
    "        batch_size=128,\n",
    "        class_mode='binary')"
   ]
  },
  {
   "cell_type": "markdown",
   "metadata": {
    "id": "af8O4l90gk7B"
   },
   "source": [
    "## Part 2 - Building the CNN"
   ]
  },
  {
   "cell_type": "markdown",
   "metadata": {
    "id": "ces1gXY2lmoX"
   },
   "source": [
    "### Initialising the CNN"
   ]
  },
  {
   "cell_type": "code",
   "execution_count": 15,
   "metadata": {
    "id": "O0a5QdbTfkFe"
   },
   "outputs": [],
   "source": [
    "cnn = tf.keras.models.Sequential()"
   ]
  },
  {
   "cell_type": "markdown",
   "metadata": {
    "id": "u5YJj_XMl5LF"
   },
   "source": [
    "### Step 1 - Convolution"
   ]
  },
  {
   "cell_type": "code",
   "execution_count": 16,
   "metadata": {
    "id": "ebhmWOfYfwHG"
   },
   "outputs": [],
   "source": [
    "cnn.add(tf.keras.layers.Conv2D(filters=32, kernel_size=8, activation=\"relu\", input_shape=[64, 64, 3]))"
   ]
  },
  {
   "cell_type": "code",
   "execution_count": 17,
   "metadata": {},
   "outputs": [],
   "source": [
    "cnn.add(tf.keras.layers.Conv2D(filters=64, kernel_size=4, activation=\"relu\", input_shape=[64, 64, 3]))"
   ]
  },
  {
   "cell_type": "code",
   "execution_count": 18,
   "metadata": {},
   "outputs": [],
   "source": [
    "cnn.add(tf.keras.layers.Conv2D(filters=32, kernel_size=3, activation=\"relu\", input_shape=[64, 64, 3]))"
   ]
  },
  {
   "cell_type": "markdown",
   "metadata": {
    "id": "YmtzlSzJhZIo"
   },
   "source": [
    "### Step 2 - Pooling"
   ]
  },
  {
   "cell_type": "code",
   "execution_count": 19,
   "metadata": {
    "id": "ZVHeW09lhl8Z"
   },
   "outputs": [],
   "source": [
    "cnn.add(tf.keras.layers.MaxPool2D(pool_size=2, strides=1))"
   ]
  },
  {
   "cell_type": "markdown",
   "metadata": {
    "id": "xaTOgD8rm4mU"
   },
   "source": [
    "### Adding a second convolutional layer"
   ]
  },
  {
   "cell_type": "code",
   "execution_count": 20,
   "metadata": {
    "id": "dLQiLJMkhWMr"
   },
   "outputs": [],
   "source": [
    "cnn.add(tf.keras.layers.Conv2D(filters=32, kernel_size=3, activation=\"relu\"))\n",
    "cnn.add(tf.keras.layers.MaxPool2D(pool_size=2, strides=1))"
   ]
  },
  {
   "cell_type": "markdown",
   "metadata": {
    "id": "tmiEuvTunKfk"
   },
   "source": [
    "### Step 3 - Flattening"
   ]
  },
  {
   "cell_type": "code",
   "execution_count": 21,
   "metadata": {
    "id": "qwShv3xTinVf"
   },
   "outputs": [],
   "source": [
    "cnn.add(tf.keras.layers.Flatten())"
   ]
  },
  {
   "cell_type": "markdown",
   "metadata": {
    "id": "dAoSECOm203v"
   },
   "source": [
    "### Step 4 - Full Connection"
   ]
  },
  {
   "cell_type": "code",
   "execution_count": 22,
   "metadata": {
    "id": "8asQMCHxi8OW"
   },
   "outputs": [],
   "source": [
    "cnn.add(tf.keras.layers.Dense(units=128, activation=\"relu\"))"
   ]
  },
  {
   "cell_type": "code",
   "execution_count": 23,
   "metadata": {},
   "outputs": [],
   "source": [
    "cnn.add(tf.keras.layers.Dense(units=16, activation=\"relu\"))"
   ]
  },
  {
   "cell_type": "markdown",
   "metadata": {
    "id": "yTldFvbX28Na"
   },
   "source": [
    "### Step 5 - Output Layer"
   ]
  },
  {
   "cell_type": "code",
   "execution_count": 24,
   "metadata": {
    "id": "yVemWOvmjb7U"
   },
   "outputs": [],
   "source": [
    "cnn.add(tf.keras.layers.Dense(units=1, activation=\"sigmoid\"))"
   ]
  },
  {
   "cell_type": "markdown",
   "metadata": {
    "id": "D6XkI90snSDl"
   },
   "source": [
    "## Part 3 - Training the CNN"
   ]
  },
  {
   "cell_type": "markdown",
   "metadata": {
    "id": "vfrFQACEnc6i"
   },
   "source": [
    "### Compiling the CNN"
   ]
  },
  {
   "cell_type": "code",
   "execution_count": 25,
   "metadata": {
    "id": "xPhgsMDtjx1v"
   },
   "outputs": [],
   "source": [
    "cnn.compile(optimizer = \"adam\", loss = \"binary_crossentropy\", metrics = [\"accuracy\"])\n"
   ]
  },
  {
   "cell_type": "markdown",
   "metadata": {
    "id": "ehS-v3MIpX2h"
   },
   "source": [
    "### Training the CNN on the Training set and evaluating it on the Test set"
   ]
  },
  {
   "cell_type": "code",
   "execution_count": 26,
   "metadata": {
    "id": "QosRJT2rknGV"
   },
   "outputs": [
    {
     "name": "stdout",
     "output_type": "stream",
     "text": [
      "Epoch 1/25\n",
      "63/63 [==============================] - 147s 2s/step - loss: 0.7271 - accuracy: 0.5318 - val_loss: 0.6876 - val_accuracy: 0.5245\n",
      "Epoch 2/25\n",
      "63/63 [==============================] - 147s 2s/step - loss: 0.6764 - accuracy: 0.5757 - val_loss: 0.6621 - val_accuracy: 0.5960\n",
      "Epoch 3/25\n",
      "63/63 [==============================] - 146s 2s/step - loss: 0.6606 - accuracy: 0.5993 - val_loss: 0.6412 - val_accuracy: 0.6410\n",
      "Epoch 4/25\n",
      "63/63 [==============================] - 146s 2s/step - loss: 0.6410 - accuracy: 0.6316 - val_loss: 0.6404 - val_accuracy: 0.6495\n",
      "Epoch 5/25\n",
      "63/63 [==============================] - 158s 3s/step - loss: 0.6224 - accuracy: 0.6587 - val_loss: 0.6042 - val_accuracy: 0.6760\n",
      "Epoch 6/25\n",
      "63/63 [==============================] - 147s 2s/step - loss: 0.5955 - accuracy: 0.6802 - val_loss: 0.5846 - val_accuracy: 0.6930\n",
      "Epoch 7/25\n",
      "63/63 [==============================] - 150s 2s/step - loss: 0.5774 - accuracy: 0.6989 - val_loss: 0.5559 - val_accuracy: 0.7255\n",
      "Epoch 8/25\n",
      "63/63 [==============================] - 153s 2s/step - loss: 0.5542 - accuracy: 0.7151 - val_loss: 0.5543 - val_accuracy: 0.7325\n",
      "Epoch 9/25\n",
      "63/63 [==============================] - 154s 2s/step - loss: 0.5463 - accuracy: 0.7276 - val_loss: 0.5543 - val_accuracy: 0.7295\n",
      "Epoch 10/25\n",
      "63/63 [==============================] - 163s 3s/step - loss: 0.5434 - accuracy: 0.7274 - val_loss: 0.5269 - val_accuracy: 0.7455\n",
      "Epoch 11/25\n",
      "63/63 [==============================] - 159s 3s/step - loss: 0.5243 - accuracy: 0.7399 - val_loss: 0.5332 - val_accuracy: 0.7185\n",
      "Epoch 12/25\n",
      "63/63 [==============================] - 153s 2s/step - loss: 0.5094 - accuracy: 0.7471 - val_loss: 0.5371 - val_accuracy: 0.7510\n",
      "Epoch 13/25\n",
      "63/63 [==============================] - 152s 2s/step - loss: 0.5003 - accuracy: 0.7502 - val_loss: 0.4922 - val_accuracy: 0.7700\n",
      "Epoch 14/25\n",
      "63/63 [==============================] - 151s 2s/step - loss: 0.4842 - accuracy: 0.7617 - val_loss: 0.4751 - val_accuracy: 0.7790\n",
      "Epoch 15/25\n",
      "63/63 [==============================] - 148s 2s/step - loss: 0.4642 - accuracy: 0.7730 - val_loss: 0.4751 - val_accuracy: 0.7795\n",
      "Epoch 16/25\n",
      "63/63 [==============================] - 153s 2s/step - loss: 0.4785 - accuracy: 0.7692 - val_loss: 0.4961 - val_accuracy: 0.7600\n",
      "Epoch 17/25\n",
      "63/63 [==============================] - 150s 2s/step - loss: 0.4530 - accuracy: 0.7859 - val_loss: 0.5184 - val_accuracy: 0.7565\n",
      "Epoch 18/25\n",
      "63/63 [==============================] - 149s 2s/step - loss: 0.4310 - accuracy: 0.7970 - val_loss: 0.4694 - val_accuracy: 0.7870\n",
      "Epoch 19/25\n",
      "63/63 [==============================] - 153s 2s/step - loss: 0.4198 - accuracy: 0.8060 - val_loss: 0.5093 - val_accuracy: 0.7590\n",
      "Epoch 20/25\n",
      "63/63 [==============================] - 2308s 37s/step - loss: 0.4072 - accuracy: 0.8112 - val_loss: 0.4654 - val_accuracy: 0.7935\n",
      "Epoch 21/25\n",
      "63/63 [==============================] - 147s 2s/step - loss: 0.3963 - accuracy: 0.8135 - val_loss: 0.4699 - val_accuracy: 0.7835\n",
      "Epoch 22/25\n",
      "63/63 [==============================] - 184s 3s/step - loss: 0.3908 - accuracy: 0.8236 - val_loss: 0.4736 - val_accuracy: 0.7935\n",
      "Epoch 23/25\n",
      "63/63 [==============================] - 182s 3s/step - loss: 0.3729 - accuracy: 0.8344 - val_loss: 0.4701 - val_accuracy: 0.7835\n",
      "Epoch 24/25\n",
      "63/63 [==============================] - 188s 3s/step - loss: 0.3517 - accuracy: 0.8419 - val_loss: 0.4845 - val_accuracy: 0.7770\n",
      "Epoch 25/25\n",
      "63/63 [==============================] - 192s 3s/step - loss: 0.3504 - accuracy: 0.8481 - val_loss: 0.4695 - val_accuracy: 0.7830\n"
     ]
    },
    {
     "data": {
      "text/plain": [
       "<keras.callbacks.History at 0x21dad3f5640>"
      ]
     },
     "execution_count": 26,
     "metadata": {},
     "output_type": "execute_result"
    }
   ],
   "source": [
    "cnn.fit(x = training_set, validation_data = test_set, epochs = 30)"
   ]
  },
  {
   "cell_type": "markdown",
   "metadata": {
    "id": "U3PZasO0006Z"
   },
   "source": [
    "## Part 4 - Making a single prediction"
   ]
  },
  {
   "cell_type": "code",
   "execution_count": 32,
   "metadata": {
    "id": "2_uNzt7XrmkM"
   },
   "outputs": [],
   "source": [
    "import numpy as np\n",
    "from keras.preprocessing import image\n",
    "test_image = image.load_img(\"dataset/single_prediction/cat_or_dog_1.jpg\", target_size = (64, 64))\n",
    "test_image = image.img_to_array(test_image)\n",
    "test_image = np.expand_dims(test_image, axis = 0)\n",
    "result = cnn.predict(test_image)\n",
    "training_set.class_indices\n",
    "if result[0][0] == 1:\n",
    "  prediction = \"dog\"\n",
    "else:\n",
    "  prediction = \"cat\""
   ]
  },
  {
   "cell_type": "code",
   "execution_count": 34,
   "metadata": {
    "id": "J5pylBoUvS9j"
   },
   "outputs": [
    {
     "name": "stdout",
     "output_type": "stream",
     "text": [
      "dog\n"
     ]
    }
   ],
   "source": [
    "print(prediction)"
   ]
  },
  {
   "cell_type": "code",
   "execution_count": null,
   "metadata": {},
   "outputs": [],
   "source": []
  }
 ],
 "metadata": {
  "colab": {
   "collapsed_sections": [],
   "name": "convolutional_neural_network.ipynb ",
   "provenance": [],
   "toc_visible": true
  },
  "kernelspec": {
   "display_name": "Python 3",
   "language": "python",
   "name": "python3"
  },
  "language_info": {
   "codemirror_mode": {
    "name": "ipython",
    "version": 3
   },
   "file_extension": ".py",
   "mimetype": "text/x-python",
   "name": "python",
   "nbconvert_exporter": "python",
   "pygments_lexer": "ipython3",
   "version": "3.8.8"
  }
 },
 "nbformat": 4,
 "nbformat_minor": 1
}
